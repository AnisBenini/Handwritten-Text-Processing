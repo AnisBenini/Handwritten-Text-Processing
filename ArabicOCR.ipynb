{
 "cells": [
  {
   "cell_type": "code",
   "execution_count": null,
   "metadata": {},
   "outputs": [],
   "source": [
    "!pip install ArabicOcr"
   ]
  },
  {
   "cell_type": "code",
   "execution_count": null,
   "metadata": {},
   "outputs": [],
   "source": [
    "from ArabicOcr import arabicocr\n",
    "image_path=r\"Le_Path_Ou_Se_Trouve_Votre_Image\"\n",
    "out_image=\"Le_Path_Ou_Vous_Voulez_Enregistrer_Output\"\n",
    "results=arabicocr.arabic_ocr(image_path,out_image)\n",
    "print(results)\n",
    "\n",
    "words=[]\n",
    "for i in range(len(results)):\n",
    "    word=results[i][1]\n",
    "    words.append(word)\n",
    "\n",
    "with open ('file.text','w',encoding='utf-8') as myfile:\n",
    "    myfile.write(str(words))"
   ]
  }
 ],
 "metadata": {
  "language_info": {
   "name": "python"
  }
 },
 "nbformat": 4,
 "nbformat_minor": 2
}
